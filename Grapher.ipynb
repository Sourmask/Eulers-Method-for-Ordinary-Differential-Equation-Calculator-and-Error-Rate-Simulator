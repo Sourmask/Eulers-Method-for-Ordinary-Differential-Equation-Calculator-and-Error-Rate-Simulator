{
 "cells": [
  {
   "cell_type": "markdown",
   "id": "88bf7d42",
   "metadata": {},
   "source": [
    "# **ODE Grapher**"
   ]
  },
  {
   "cell_type": "code",
   "execution_count": null,
   "id": "5bdcc13d",
   "metadata": {},
   "outputs": [],
   "source": [
    "## Dependencies\n",
    "import matplotlib.pyplot as plt\n",
    "from tabulate import tabulate\n",
    "import math"
   ]
  },
  {
   "cell_type": "markdown",
   "id": "7f36a430",
   "metadata": {},
   "source": [
    "### Error Rate Grapher"
   ]
  },
  {
   "cell_type": "code",
   "execution_count": null,
   "id": "5f12c175",
   "metadata": {},
   "outputs": [],
   "source": []
  }
 ],
 "metadata": {
  "kernelspec": {
   "display_name": "Python 3",
   "language": "python",
   "name": "python3"
  },
  "language_info": {
   "codemirror_mode": {
    "name": "ipython",
    "version": 3
   },
   "file_extension": ".py",
   "mimetype": "text/x-python",
   "name": "python",
   "nbconvert_exporter": "python",
   "pygments_lexer": "ipython3",
   "version": "3.13.7"
  }
 },
 "nbformat": 4,
 "nbformat_minor": 5
}
